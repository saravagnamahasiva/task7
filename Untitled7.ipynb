{
  "nbformat": 4,
  "nbformat_minor": 0,
  "metadata": {
    "colab": {
      "provenance": []
    },
    "kernelspec": {
      "name": "python3",
      "display_name": "Python 3"
    },
    "language_info": {
      "name": "python"
    }
  },
  "cells": [
    {
      "cell_type": "code",
      "execution_count": 1,
      "metadata": {
        "id": "5FfxBDd3AuOn"
      },
      "outputs": [],
      "source": [
        "import sqlite3\n",
        "import pandas as pd\n",
        "import matplotlib.pyplot as plt\n"
      ]
    },
    {
      "cell_type": "code",
      "source": [
        "# connect to SQLite (this will create a file in your colab directory)\n",
        "conn = sqlite3.connect('sales_data.db')\n"
      ],
      "metadata": {
        "id": "1P9_Y-IPA8wh"
      },
      "execution_count": 2,
      "outputs": []
    },
    {
      "cell_type": "code",
      "source": [
        "with conn:\n",
        "    conn.execute('''\n",
        "    CREATE TABLE IF NOT EXISTS sales (\n",
        "        id INTEGER PRIMARY KEY AUTOINCREMENT,\n",
        "        product TEXT,\n",
        "        quantity INTEGER,\n",
        "        price REAL\n",
        "    )\n",
        "    ''')\n",
        "    conn.execute('DELETE FROM sales')  # clear if already filled\n",
        "\n",
        "    conn.executemany('''\n",
        "    INSERT INTO sales (product, quantity, price) VALUES (?, ?, ?)\n",
        "    ''', [\n",
        "        ('Product A', 10, 5.0),\n",
        "        ('Product B', 20, 7.5),\n",
        "        ('Product A', 5, 5.0),\n",
        "        ('Product C', 7, 10.0),\n",
        "        ('Product B', 10, 7.5),\n",
        "    ])\n"
      ],
      "metadata": {
        "id": "VBw1PhukBB7h"
      },
      "execution_count": 3,
      "outputs": []
    },
    {
      "cell_type": "code",
      "source": [
        "query = '''\n",
        "SELECT product, SUM(quantity) AS total_quantity, SUM(quantity * price) AS revenue\n",
        "FROM sales\n",
        "GROUP BY product\n",
        "'''\n",
        "\n",
        "df = pd.read_sql_query(query, conn)\n",
        "\n",
        "print(\"Summary:\")\n",
        "print(df)\n"
      ],
      "metadata": {
        "colab": {
          "base_uri": "https://localhost:8080/"
        },
        "id": "fpN1vmTjBFif",
        "outputId": "05c2ada1-9e22-4404-e23b-0cb205a4ddcc"
      },
      "execution_count": 4,
      "outputs": [
        {
          "output_type": "stream",
          "name": "stdout",
          "text": [
            "Summary:\n",
            "     product  total_quantity  revenue\n",
            "0  Product A              15     75.0\n",
            "1  Product B              30    225.0\n",
            "2  Product C               7     70.0\n"
          ]
        }
      ]
    },
    {
      "cell_type": "code",
      "source": [
        "df.plot(kind='bar', x='product', y='revenue')\n",
        "plt.xlabel('Product')\n",
        "plt.ylabel('Total Revenue')\n",
        "plt.title('Revenue by Product')\n",
        "plt.show()\n"
      ],
      "metadata": {
        "colab": {
          "base_uri": "https://localhost:8080/",
          "height": 525
        },
        "id": "WxWZaRDeBJbO",
        "outputId": "c39e67c2-84ab-4494-ad55-ac6f8ff54518"
      },
      "execution_count": 5,
      "outputs": [
        {
          "output_type": "display_data",
          "data": {
            "text/plain": [
              "<Figure size 640x480 with 1 Axes>"
            ],
            "image/png": "[encoded data removed]"
          },
          "metadata": {}
        }
      ]
    },
    {
      "cell_type": "code",
      "source": [
        "from google.colab import drive\n",
        "drive.mount('/content/drive')\n",
        "\n",
        "# move files to Drive\n",
        "!cp sales_data.db \"/content/drive/MyDrive/sales_data.db\"\n"
      ],
      "metadata": {
        "colab": {
          "base_uri": "https://localhost:8080/"
        },
        "id": "QNGO1_EdBVTt",
        "outputId": "6442c05b-860a-4a88-c39a-22b0a3696a9b"
      },
      "execution_count": 6,
      "outputs": [
        {
          "output_type": "stream",
          "name": "stdout",
          "text": [
            "Mounted at /content/drive\n"
          ]
        }
      ]
    }
  ]
}